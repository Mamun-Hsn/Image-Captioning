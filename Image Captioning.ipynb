{
  "nbformat": 4,
  "nbformat_minor": 0,
  "metadata": {
    "colab": {
      "provenance": []
    },
    "kernelspec": {
      "name": "python3",
      "display_name": "Python 3"
    },
    "language_info": {
      "name": "python"
    },
    "accelerator": "GPU",
    "gpuClass": "standard"
  },
  "cells": [
    {
      "cell_type": "code",
      "execution_count": 1,
      "metadata": {
        "id": "-Tg8fTRibUY4"
      },
      "outputs": [],
      "source": [
        "import tensorflow as tf\n",
        "#It will generate plots of attentations in order to see which part of the image \n",
        "#Model focusing on during captioning\n",
        "import matplotlib.pyplot as plt\n",
        "import collections\n",
        "import random\n",
        "import numpy as np\n",
        "import os\n",
        "import time\n",
        "import json\n",
        "from PIL import Image\n",
        "import tqdm\n",
        "from tqdm import tqdm "
      ]
    },
    {
      "cell_type": "code",
      "source": [
        "#Download Caption annotation file\n",
        "annotation_folder='/annotations/'\n",
        "if not os.path.exists(os.path.abspath('.')+annotation_folder):\n",
        "  annotation_zip=tf.keras.utils.get_file('captions.zip',cache_subdir=os.path.abspath('.'),\n",
        "                                          origin='http://images.cocodataset.org/annotations/annotations_trainval2014.zip',\n",
        "                                          extract=True)\n",
        "  annotation_file=os.path.dirname(annotation_zip)+'/annotations/captions_train2014.json'\n",
        "  os.remove(annotation_zip)\n",
        "#Download image file\n",
        "image_folder='/train2014/'  \n",
        "if not os.path.exists(os.path.abspath('.')+image_folder):\n",
        "  image_zip=tf.keras.utils.get_file('train2014.zip',cache_subdir=os.path.abspath('.'),\n",
        "                                          origin='http://images.cocodataset.org/zips/train2014.zip',\n",
        "                                          extract=True)\n",
        "  PATH=os.path.dirname(image_zip)+image_folder\n",
        "  os.remove(image_zip)\n",
        "else:\n",
        "  PATH=os.path.abspath('.')+image_folder\n",
        "    "
      ],
      "metadata": {
        "colab": {
          "base_uri": "https://localhost:8080/"
        },
        "id": "usv0BVV8baSr",
        "outputId": "23348fea-babd-4af5-8855-f09d6641a38e"
      },
      "execution_count": 2,
      "outputs": [
        {
          "output_type": "stream",
          "name": "stdout",
          "text": [
            "Downloading data from http://images.cocodataset.org/annotations/annotations_trainval2014.zip\n",
            "252872794/252872794 [==============================] - 3s 0us/step\n",
            "Downloading data from http://images.cocodataset.org/zips/train2014.zip\n",
            "13510573713/13510573713 [==============================] - 782s 0us/step\n"
          ]
        }
      ]
    },
    {
      "cell_type": "markdown",
      "source": [
        "#Limit The Size Of Trainning Set"
      ],
      "metadata": {
        "id": "iQN2611xwTHH"
      }
    },
    {
      "cell_type": "code",
      "source": [
        "with open(annotation_file,'r') as f:\n",
        "   annotations=json.load(f)"
      ],
      "metadata": {
        "id": "ftkF2ZkEbaVS"
      },
      "execution_count": 3,
      "outputs": []
    },
    {
      "cell_type": "code",
      "source": [
        "#Group all the Caption Togather Having Same Image ID\n",
        "image_path_to_caption=collections.defaultdict(list)\n",
        "for val in annotations['annotations']:\n",
        "  caption=f\"<start> {val['caption']} <end>\"\n",
        "  image_path=PATH +'COCO_train2014_'+'%012d.jpg' % (val['image_id'])\n",
        "  image_path_to_caption[image_path].append(caption)"
      ],
      "metadata": {
        "id": "xBlcph1ZbaXo"
      },
      "execution_count": 4,
      "outputs": []
    },
    {
      "cell_type": "code",
      "source": [
        "image_paths=list(image_path_to_caption.keys())\n",
        "random.shuffle(image_paths)\n",
        "\n",
        "#Select the first 6000 image_paths from the suffled set\n",
        "#Approximatly each image id has 5 captions associated with it,so that will\n",
        "#Lead to 30,000 examples\n",
        "train_image_paths=image_paths[:6000]\n",
        "print(len(train_image_paths))"
      ],
      "metadata": {
        "colab": {
          "base_uri": "https://localhost:8080/"
        },
        "id": "0bQJQVdJbaaZ",
        "outputId": "7481146c-f192-4480-eb4f-4064c114a8dc"
      },
      "execution_count": 33,
      "outputs": [
        {
          "output_type": "stream",
          "name": "stdout",
          "text": [
            "6000\n"
          ]
        }
      ]
    },
    {
      "cell_type": "code",
      "source": [
        "train_captions=[]\n",
        "img_name_vactor=[]\n",
        "for image_path in train_image_paths:\n",
        "    caption_list=image_path_to_caption[image_path]\n",
        "    train_captions.extend(caption_list)\n",
        "    img_name_vactor.extend([image_path] * len(caption_list))"
      ],
      "metadata": {
        "id": "J29DeMJrbadF"
      },
      "execution_count": 34,
      "outputs": []
    },
    {
      "cell_type": "code",
      "source": [
        "print(train_captions[6])\n",
        "Image.open(img_name_vactor[6])"
      ],
      "metadata": {
        "colab": {
          "base_uri": "https://localhost:8080/",
          "height": 431
        },
        "id": "_OWPCEalbafU",
        "outputId": "b31b2ed1-baab-4cc4-b7f6-bb774048b4cc"
      },
      "execution_count": 35,
      "outputs": [
        {
          "output_type": "stream",
          "name": "stdout",
          "text": [
            "<start> A person using a laptop wearing a patriotic hat <end>\n"
          ]
        },
        {
          "output_type": "execute_result",
          "data": {
            "text/plain": [
              "<PIL.JpegImagePlugin.JpegImageFile image mode=RGB size=640x397 at 0x7FAAC0051D00>"
            ],
            "image/png": "[encoded data removed]"
          },
          "metadata": {},
          "execution_count": 35
        }
      ]
    },
    {
      "cell_type": "markdown",
      "source": [
        "# Processe The Images Using InceptionV3\n",
        "\n",
        " '''First we have to convert each image to inceptionv3 format'''\n",
        "\n",
        "\n",
        "*   Resizing the Image to 290px by 290px\n",
        "*   Processes the image into process_input Method to normalize the image so it contains pixels in range -1 to 1 which matches the format of the images used to train InceptionV3\n",
        "\n",
        "\n",
        "\n"
      ],
      "metadata": {
        "id": "1_oN29Nz9-LG"
      }
    },
    {
      "cell_type": "code",
      "source": [
        "def load_image(image_path):\n",
        "   img=tf.io.read_file(image_path)\n",
        "   img=tf.io.decode_jpeg(img,channels=3)\n",
        "   img=tf.image.resize(img,(299,299))\n",
        "   img=tf.keras.applications.inception_v3.preprocess_input(img)\n",
        "   return img,image_path"
      ],
      "metadata": {
        "id": "Aa9oHMVYbahq"
      },
      "execution_count": 36,
      "outputs": []
    },
    {
      "cell_type": "markdown",
      "source": [
        "#Initialize the InceptionV3 and load the Pretrained Imagenet Weights\n",
        "\n",
        "'''Now we will create a  tf.keras model where the output layer is thre last convolution layer in the InceptionV3 architecture.The shape of the output layer is 8X8X2048.We use the last convolution layer.Because we are using attentation in this example.We don't perform initrialization during trainning phase because it becomes bottleneck'''\n",
        "\n",
        "\n",
        "* We forward each image into the network and store the resulting vector into a dictionary.(image_name--->feature_vector)\n",
        "* After all the i8mages arte passed through the network we will save the model in the disk\n",
        "\n"
      ],
      "metadata": {
        "id": "Uj-F5gYNpXPe"
      }
    },
    {
      "cell_type": "code",
      "source": [
        "image_model=tf.keras.applications.InceptionV3(include_top=False,\n",
        "                                              weights=\"imagenet\")\n",
        "new_input=image_model.input\n",
        "hidden_layer=image_model.layers[-1].output\n",
        "\n",
        "image_fetaures_extract_model=tf.keras.Model(new_input,hidden_layer)"
      ],
      "metadata": {
        "id": "tSVnexbobake"
      },
      "execution_count": 37,
      "outputs": []
    },
    {
      "cell_type": "markdown",
      "source": [
        "#Caching the features extracted from inceptionv3"
      ],
      "metadata": {
        "id": "SVmCxuDMOlpc"
      }
    },
    {
      "cell_type": "code",
      "source": [
        "#Get the unique images\n",
        "encode_train=sorted(set(img_name_vactor))\n",
        "image_dataset=tf.data.Dataset.from_tensor_slices(encode_train)\n",
        "image_dataset=image_dataset.map(load_image,num_parallel_calls=tf.data.AUTOTUNE).batch(16)\n",
        "\n",
        "for img,path in tqdm(image_dataset):\n",
        "  batch_features=image_fetaures_extract_model(img)\n",
        "  batch_features=tf.reshape(batch_features,(batch_features.shape[0],-1,batch_features.shape[3]))\n",
        "  for bf,p in zip(batch_features,path):\n",
        "     path_of_feature = p.numpy().decode(\"utf-8\")\n",
        "     np.save(path_of_feature,bf.numpy())\n",
        "\n"
      ],
      "metadata": {
        "colab": {
          "base_uri": "https://localhost:8080/"
        },
        "id": "zkGsq_ZyOk9E",
        "outputId": "65a19ac8-129c-49e4-dede-72ad12330a56"
      },
      "execution_count": 38,
      "outputs": [
        {
          "output_type": "stream",
          "name": "stderr",
          "text": [
            "100%|██████████| 375/375 [02:22<00:00,  2.64it/s]\n"
          ]
        }
      ]
    },
    {
      "cell_type": "markdown",
      "source": [
        "#Preprocessing and Tokenize the caption\n",
        "\n",
        "\n",
        "* First we will tokenize the caption(for example,by splitting on spaces).This gives us the vocabulary of all of the unique words in the data(for example 'surtfing','football')\n",
        "\n",
        "* Next we will limit the vocabulary size to the top 5,000 words(to save the memory).we will replace aii t6he other words with the token 'UNK'(unknown)\n",
        "*  Then we create word_to_index and index_to_word mapping\n",
        "*  Finally we will pad all the sequences to the same length as the lomgest one\n",
        "\n"
      ],
      "metadata": {
        "id": "aQJiC6X_4qyu"
      }
    },
    {
      "cell_type": "code",
      "source": [
        "#Find the maximum length of any captionh in the dataset\n",
        "def cal_max_len(tensor):\n",
        "   return max(len(t) for t in tensor)"
      ],
      "metadata": {
        "id": "r6MGYO_rbapq"
      },
      "execution_count": 39,
      "outputs": []
    },
    {
      "cell_type": "code",
      "source": [
        "#Choose the top 5000 words from the Vocabulary\n",
        "top_k=5000\n",
        "tokenizer=tf.keras.preprocessing.text.Tokenizer(num_words=top_k,oov_token=\"<unk>\",filters='!\"#$&%()*?=;:^{}~`/|')\n",
        "tokenizer.fit_on_texts(train_captions)"
      ],
      "metadata": {
        "id": "1NV2tPyPbasE"
      },
      "execution_count": 40,
      "outputs": []
    },
    {
      "cell_type": "code",
      "source": [
        "tokenizer.word_index['<pad>']=0\n",
        "tokenizer.index_word[0]='<pad>'"
      ],
      "metadata": {
        "id": "f3Ndhe10bauq"
      },
      "execution_count": 41,
      "outputs": []
    },
    {
      "cell_type": "code",
      "source": [
        "#Create the Tokenize Vectors\n",
        "train_seqs=tokenizer.texts_to_sequences(train_captions)"
      ],
      "metadata": {
        "id": "-QZgnYtlbaxT"
      },
      "execution_count": 42,
      "outputs": []
    },
    {
      "cell_type": "code",
      "source": [
        "#Pad each vactor to the max length of the caption\n",
        "#If we donot provide the max l;ength value4 then the mjax length calculate it automatically\n",
        "cap_vector=tf.keras.preprocessing.sequence.pad_sequences(train_seqs,padding='post')"
      ],
      "metadata": {
        "id": "t80a5J_Kbaz_"
      },
      "execution_count": 43,
      "outputs": []
    },
    {
      "cell_type": "code",
      "source": [
        "#Calculate the max length which used to store the attentation weight\n",
        "max_length=cal_max_len(train_seqs) "
      ],
      "metadata": {
        "id": "YLZDJtb3ba2n"
      },
      "execution_count": 44,
      "outputs": []
    },
    {
      "cell_type": "markdown",
      "source": [
        "#Split the data into Train and Test"
      ],
      "metadata": {
        "id": "OREt1strCdZQ"
      }
    },
    {
      "cell_type": "code",
      "source": [
        "img_to_cap_vactor=collections.defaultdict(list)\n",
        "for img,cap in zip(img_name_vactor,cap_vector):\n",
        "   img_to_cap_vactor[img].append(cap)\n",
        "#Create trainning and validation set usingan 80-20 set randomly\n",
        "img_keys=list(img_to_cap_vactor.keys())\n",
        "random.shuffle(img_keys)   \n",
        "\n",
        "slice_index=int(len(img_keys)*0.8)\n",
        "img_name_train_keys,img_name_val_keys=img_keys[:slice_index],img_keys[slice_index:]\n",
        "\n",
        "img_name_train=[]\n",
        "cap_train=[]\n",
        "for imgt in img_name_train_keys:\n",
        "    capt_len=len(img_to_cap_vactor[imgt])\n",
        "    img_name_train.extend([imgt]*capt_len)\n",
        "    cap_train.extend(img_to_cap_vactor[imgt])\n",
        "\n",
        "img_name_val=[]\n",
        "cap_val=[]\n",
        "for imgv in img_name_val_keys:\n",
        "    capv_len=len(img_to_cap_vactor[imgv])\n",
        "    img_name_val.extend([imgv]*capt_len)\n",
        "    cap_val.extend(img_to_cap_vactor[imgv])"
      ],
      "metadata": {
        "id": "A6fdKSUtba5Q"
      },
      "execution_count": 45,
      "outputs": []
    },
    {
      "cell_type": "code",
      "source": [
        "len(img_name_train),len(cap_train),len(img_name_val),len(cap_val)"
      ],
      "metadata": {
        "colab": {
          "base_uri": "https://localhost:8080/"
        },
        "id": "iT3T0NfSba7-",
        "outputId": "9935fab0-20b9-4b9b-9baf-b7ef003a0d74"
      },
      "execution_count": 46,
      "outputs": [
        {
          "output_type": "execute_result",
          "data": {
            "text/plain": [
              "(24016, 24016, 6000, 6003)"
            ]
          },
          "metadata": {},
          "execution_count": 46
        }
      ]
    },
    {
      "cell_type": "markdown",
      "source": [
        "#Create a tf datasaet For Trainning"
      ],
      "metadata": {
        "id": "aNwBGCGhKPZk"
      }
    },
    {
      "cell_type": "code",
      "source": [
        "BATCH_SIZE=64\n",
        "BUFFER_SIZE=1000\n",
        "embedding_dim=256\n",
        "units=512\n",
        "vocab_size=top_k+1\n",
        "num_steps=len(img_name_train)//BATCH_SIZE\n",
        "#Shape of the Vactor extracted from inceptionV3 is (64,2048)\n",
        "#These two variable represents vactror space\n",
        "features_shape=2048\n",
        "attention_features_shape=64"
      ],
      "metadata": {
        "id": "EEHqPFixba-T"
      },
      "execution_count": 47,
      "outputs": []
    },
    {
      "cell_type": "code",
      "source": [
        "#Load the numpy files \n",
        "def map_func(img_name,cap):\n",
        "  img_tensor=np.load(img_name.decode('utf-8')+'.npy')\n",
        "  return img_tensor,cap"
      ],
      "metadata": {
        "id": "KJbZgMSBbbAu"
      },
      "execution_count": 48,
      "outputs": []
    },
    {
      "cell_type": "code",
      "source": [
        "dataset=tf.data.Dataset.from_tensor_slices((img_name_train,cap_train))\n",
        "\n",
        "#Use map to load numpy files in parallel\n",
        "dataset=dataset.map(lambda item1,item2:tf.numpy_function(map_func,[item1,item2],[tf.float32,tf.int32]),num_parallel_calls=tf.data.AUTOTUNE)\n",
        "dataset=dataset.shuffle(BUFFER_SIZE).batch(BATCH_SIZE)\n",
        "#Shbuffle and batch\n",
        "dataset=dataset.shuffle(BUFFER_SIZE).batch(BATCH_SIZE)\n",
        "dataset=dataset.prefetch(buffer_size=tf.data.AUTOTUNE)"
      ],
      "metadata": {
        "id": "Ho47clhlbbDk"
      },
      "execution_count": 49,
      "outputs": []
    },
    {
      "cell_type": "code",
      "source": [
        "type(dataset)"
      ],
      "metadata": {
        "colab": {
          "base_uri": "https://localhost:8080/"
        },
        "id": "CKDYOeAZK0rV",
        "outputId": "8c5694b3-dad9-44ea-c0fb-bbc32b42877c"
      },
      "execution_count": 22,
      "outputs": [
        {
          "output_type": "execute_result",
          "data": {
            "text/plain": [
              "tensorflow.python.data.ops.dataset_ops.PrefetchDataset"
            ]
          },
          "metadata": {},
          "execution_count": 22
        }
      ]
    },
    {
      "cell_type": "markdown",
      "source": [
        "#Model\n",
        "\n",
        "\n",
        "*   Here we extract the features from the lower convolution layer of inceptionV3 giving us a vactor of shape(8,8,2048)\n",
        "*   we squash it into a shape of (64,2048)\n",
        "*   The vactor then pass through the CNN Encoder(whichb consists of sinle fully connected layer)\n",
        "*   The RNN(here GRU) attend over the image to predict the next word\n",
        "\n",
        "\n"
      ],
      "metadata": {
        "id": "QPFGYa7unG24"
      }
    },
    {
      "cell_type": "code",
      "source": [
        "class BahdanauAttention(tf.keras.Model):\n",
        "      def __init__(self,units):\n",
        "        super(BahdanauAttention,self).__init__()\n",
        "        self.W1 = tf.keras.layers.Dense(units)\n",
        "        self.W2 = tf.keras.layers.Dense(units)\n",
        "        self.V = tf.keras.layers.Dense(1)\n",
        "      def call(self,features,hidden):\n",
        "        #features(CNN_ecoder output) shape == (batch_size,64,embedding_dim)\n",
        "        #hidden shape == (batch_size,1,hidden_size)\n",
        "        hidden_with_time_axis=tf.expand_dims(hidden,1)\n",
        "        #attentation_hidden_layer=(batch_size,64,units)\n",
        "        attentation_hidden_layer=(tf.nn.tanh(self.W1(features)+self.W2(hidden_with_time_axis)))\n",
        "        #Score shape == (batch_size,64,1)\n",
        "        #This gives us a unnormalized score for each features\n",
        "        score=self.V(attentation_hidden_layer)\n",
        "        #Attention weights shape == (batch_size,64,1)\n",
        "        attention_weights=tf.nn.softmax(score,axis=1)\n",
        "        #context vactor shape after sum == (batch_size,hidden_size)\n",
        "        context_vactor=attention_weights * features\n",
        "        context_vactor=tf.reduce_sum(context_vactor,axis=1)\n",
        "\n",
        "        return context_vactor,attention_weights"
      ],
      "metadata": {
        "id": "MUNyKP_SbbGF"
      },
      "execution_count": 50,
      "outputs": []
    },
    {
      "cell_type": "code",
      "source": [
        "class CNN_Encoder(tf.keras.Model):\n",
        "     #Since we alredy extracted the features and dumped it \n",
        "     #This Encoder passes the features through a fully connected layer\n",
        "     def __init__(self,embedding_dim):\n",
        "        super(CNN_Encoder,self).__init__()\n",
        "        #shape after fc == (batch_size,64,embedding_dim)\n",
        "     def call(self,x):\n",
        "         x=self.fc(x)\n",
        "         x=tf.nn.relu(x)\n",
        "         return x\n",
        "   "
      ],
      "metadata": {
        "id": "6qHDjc6tbbIx"
      },
      "execution_count": 51,
      "outputs": []
    },
    {
      "cell_type": "code",
      "source": [
        "class RNN_Decoder(tf.keras.Model):\n",
        "     def __init__(self,embedding_dim,units,vocab_size):\n",
        "        super(RNN_Decoder,self).__init__()\n",
        "        self.units=units\n",
        "        self.embedding=tf.keras.layers.Embedding(vocab_size,embedding_dim)\n",
        "        self.gru=tf.keras.layers.GRU(self.units,return_sequences=True,return_state=True,recurrent_initializer='glorot_uniform')\n",
        "        self.fc1=tf.keras.layers.Dense(self.units)\n",
        "        self.fc2=tf.keras.layers.Dense(self.units)\n",
        "        self.attention=BahdanauAttention(self.units)\n",
        "     def call(self,x,features,hidden):\n",
        "        #defining attention as a separate model\n",
        "        context_vector,attention_weights=self.attention(features,hidden)\n",
        "        #x shape after passing through embaddingds\n",
        "        x=self.embedding(x)\n",
        "        #x shape after concatinated vactor to GRU\n",
        "        output,state=self.gru(x)\n",
        "        #shape ==(batch_size,max_len,hidden_size)\n",
        "        x=self.fc1(output)\n",
        "        #x shape ==(batch_size*max_length,hidden_size)\n",
        "        x=tf.reshape(x,(-1,x.shape[2]))\n",
        "        return x,state,attention_weights\n",
        "     def reset_state(self,batch_size):\n",
        "        return tf.zeros((batch_size,self.units))\n",
        "\n",
        "\n",
        "\n"
      ],
      "metadata": {
        "id": "EuHU_luMbbLA"
      },
      "execution_count": 52,
      "outputs": []
    },
    {
      "cell_type": "code",
      "source": [
        "encoder=CNN_Encoder(embedding_dim)\n",
        "decoder=RNN_Decoder(embedding_dim,units,vocab_size)"
      ],
      "metadata": {
        "id": "jFSGxtxXbbN4"
      },
      "execution_count": 53,
      "outputs": []
    },
    {
      "cell_type": "code",
      "source": [
        "optimizer=tf.keras.optimizers.Adam()\n",
        "loss_object=tf.keras.losses.SparseCategoricalCrossentropy(from_logits=True,reduction='none')\n",
        "def loss_function(real,predict):\n",
        "   mask=tf.math.logical_not(tf.math.equal(real,0))\n",
        "   loss_=loss_object(real,predict)\n",
        "   mask=tf.cast(mask,dtype=loss_.dtype)\n",
        "   loss_==mask\n",
        "   return tf.reduce_mean(loss_)"
      ],
      "metadata": {
        "id": "q_QpGBH5bbQX"
      },
      "execution_count": 54,
      "outputs": []
    },
    {
      "cell_type": "markdown",
      "source": [
        "#Checkpoints"
      ],
      "metadata": {
        "id": "l2v8NFd8rsmg"
      }
    },
    {
      "cell_type": "code",
      "source": [
        "checkpoint_path=\"/checkpoints/train\"\n",
        "ckpt=tf.train.Checkpoint(encoder=encoder,decoder=decoder,optimizer=optimizer)\n",
        "ckpt_manager=tf.train.CheckpointManager(ckpt,checkpoint_path,max_to_keep=5)"
      ],
      "metadata": {
        "id": "I0SAElrpbbTJ"
      },
      "execution_count": 55,
      "outputs": []
    },
    {
      "cell_type": "code",
      "source": [
        "start_epoch=0\n",
        "if ckpt_manager.latest_checkpoint:\n",
        "   start_epoch=int(ckpt_manager.latest_checkpoint.split('-')[-1])\n",
        "   #restoring the latest checkpoints in checkpoint_path\n",
        "   ckpt.restore(ckpt_manager.latest_checkpoint) "
      ],
      "metadata": {
        "id": "-LjQCyz8bbVh"
      },
      "execution_count": 56,
      "outputs": []
    },
    {
      "cell_type": "markdown",
      "source": [
        "#Trainning "
      ],
      "metadata": {
        "id": "K6nq548GuCpx"
      }
    },
    {
      "cell_type": "code",
      "source": [
        "#Adding this in a separate cell because if we run the cell trainning cell many time then the loss_plot array will reset\n",
        "loss_plot=[]"
      ],
      "metadata": {
        "id": "aBcgFmi-bbYZ"
      },
      "execution_count": 57,
      "outputs": []
    },
    {
      "cell_type": "code",
      "source": [
        "@tf.function\n",
        "def train_step(img_tensor,target):\n",
        "  loss=0\n",
        "  #initializing the hidden state for each batch\n",
        "  #because the caption are not related from image to image\n",
        "  hidden=decoder.reset_state(batch_size=target.shape[0])\n",
        "  dec_input=tf.expand_dims([tokenizer.word_index['<start>']]*target.shape[0],1)\n",
        "  \n",
        "  with tf.GradientTape() as tape:\n",
        "     features=encoder(img_tensor)\n",
        "\n",
        "     for i in range(1,target[1]):\n",
        "       #passing the features through the decoder\n",
        "       predictions,hidden,_=decoder(dec_input,features,hidden)\n",
        "\n",
        "       loss += loss_function(target[:,i],predictions)\n",
        "       #using teacher forcing\n",
        "       dec_input=tf.erxpand_dims(target[:,i],1)\n",
        "  total_loss=(loss/int(target.shape[1]))\n",
        "  trainable_variables=encoder.trainable_variables+decoder.trainable_variables\n",
        "  gradients=tape.gradient(loss,trainable_variables)\n",
        "  optimizer.apply_gradients(zip(gradients,trainable_variables))\n",
        "  return loss,total_loss"
      ],
      "metadata": {
        "id": "XTZx17KqbbbD"
      },
      "execution_count": 58,
      "outputs": []
    },
    {
      "cell_type": "code",
      "source": [
        "EPOCHS=20\n",
        "for epoch in range(start_epoch,EPOCHS):\n",
        "   start=time.time()\n",
        "   total_loss=0\n",
        "   for (batch,(img_tensor,target)) in enumerate(dataset):\n",
        "        batch_loss,t_loss=train_step(img_tensor,target)\n",
        "        total_loss += t_loss\n",
        "        if batch%100==0:\n",
        "           average_batch_loss=batch_loss.numpy()/int(target.shape[1])\n",
        "           print(f'Epoch{epoch+1} Batch {batch} loss {average_batch_loss:.4f}')\n",
        "        #storing the epoch value to the plot later\n",
        "        loss_plot.append(total_loss/num_steps)\n",
        "\n",
        "        if epoch % 5==0:\n",
        "           ckpt_manager.save()\n",
        "        print(f'Epoch{epoch+1} Batch {batch} loss {total_loss/num_steps:.6f}')\n",
        "        print(f'Time taken for 1 epoch {time.time()-start:.2f} sec\\n')"
      ],
      "metadata": {
        "id": "jb-wJyF2bbdw"
      },
      "execution_count": null,
      "outputs": []
    },
    {
      "cell_type": "code",
      "source": [
        "plt.plot(loss_plot)\n",
        "plt.xlabel('Epoch')\n",
        "plt.ylabel('Loss')\n",
        "plt.title('Loss Plot')\n",
        "plt.show()"
      ],
      "metadata": {
        "id": "8YWDbi1gbbhE"
      },
      "execution_count": null,
      "outputs": []
    },
    {
      "cell_type": "code",
      "source": [
        "def evaluate(image):\n",
        "    attention_plot=np.zeros((max_length,attention_features_shape))\n",
        "    hidden=decoder.reset_state(batch_size=1)\n",
        "    temp_input=tf.expand_dims(load_image[image][0],0)\n",
        "    img_tensor_val=image_features_extract_model(temp_input)\n",
        "    img_tensor_val=tf.reshape(img_tensor_val,(img_tensor_val.shape[0],-1,img_tensor_val.shape[3]))\n",
        "\n",
        "    features=encoder(img_tensor_val)\n",
        "    dec_input=tf.expand_dims([tokenizer.word_index['<start>']],0)\n",
        "    result=[]\n",
        "    \n",
        "    for i in range(max_length):\n",
        "        predictions,hidden,attentation_weights=decoder(dec_input,features,hidden)\n",
        "        attention_plot[i]=tf.reshape(attentation_weights,(-1,)).numpy()\n",
        "        prediction_id=tf.random.catagorical(predictions,1)[0][0].numpy()\n",
        "        result.append(tokenizer.index_word[prediction_id])\n",
        "        if tokenizer.index_word[prediction_id]=='<end>'\n",
        "            return result,attention_plot\n",
        "        dec_input = tf.expand_dims([prediction_id],0)\n",
        "     attention_plot=attention_plot[:len(result),:]\n",
        "     return result,attention_plot"
      ],
      "metadata": {
        "id": "1fGE0vnObbjo"
      },
      "execution_count": 1,
      "outputs": []
    },
    {
      "cell_type": "code",
      "source": [
        "def plot_attention(image,result,attention_plot):\n",
        "    temp_image=np.array(Image.open(image))\n",
        "\n",
        "    fig=plt.figure(figsize=(10,10))\n",
        "\n",
        "    len_result=len(result)\n",
        "    for i in range(len_result):\n",
        "        temp_att=np.resize(attention_plot[i],(8,8))\n",
        "        grid_size=max(np.cell(len_result/2),2)\n",
        "        ax=fig.add_subplot(grid_size,grid_size,i+1)\n",
        "        ax.set_title(result[i])\n",
        "        img=ax.imshow(temp_image)\n",
        "        ax.imshow(temp_att,cmap='gray',alpha=0.6,extent=img.get_extend())\n",
        "     plt.tight_layout()\n",
        "     plt.show()    "
      ],
      "metadata": {
        "id": "uQl9mU1hbbmb"
      },
      "execution_count": null,
      "outputs": []
    },
    {
      "cell_type": "code",
      "source": [
        "#caption on the validationset\n",
        "rid=np.random.randint(0,len(img_name_val))\n",
        "image=img_name_val[rid]\n",
        "real_caption=\" \".join([tokenizer.index_word[i] for i in cap_val[rid] if i not in [0]])\n",
        "result,attention_plot=evaluate(image)\n",
        "\n",
        "print('Real_Caption:',real_caption)\n",
        "print(\"Prediction Caption:\",\" \".join(result))\n",
        "plot_attention(image,result,attention_plot)"
      ],
      "metadata": {
        "id": "pkCQ4UNfbbpE"
      },
      "execution_count": null,
      "outputs": []
    },
    {
      "cell_type": "code",
      "source": [
        "image_url=\n",
        "image_extension=image_url[-4:]\n",
        "image_path=tf.keras.utils.get_file('image'+image_extension,origin=image_url)\n",
        "\n",
        "result,attention_plot=evaluate(image_path)\n",
        "print('Prediction Caption:',.join(result))\n",
        "plot_attention(image_path,result,attention_plot)\n",
        "Image.open(image_path)"
      ],
      "metadata": {
        "id": "2M4SCADlbbry"
      },
      "execution_count": null,
      "outputs": []
    },
    {
      "cell_type": "code",
      "source": [],
      "metadata": {
        "id": "34j9kkgNbbuS"
      },
      "execution_count": null,
      "outputs": []
    },
    {
      "cell_type": "code",
      "source": [],
      "metadata": {
        "id": "rbSXYvnHbbxn"
      },
      "execution_count": null,
      "outputs": []
    },
    {
      "cell_type": "code",
      "source": [],
      "metadata": {
        "id": "BYIazfdubb29"
      },
      "execution_count": null,
      "outputs": []
    },
    {
      "cell_type": "code",
      "source": [],
      "metadata": {
        "id": "_nE9Kqssbb5q"
      },
      "execution_count": null,
      "outputs": []
    },
    {
      "cell_type": "code",
      "source": [],
      "metadata": {
        "id": "1oZvnw0Kbb8V"
      },
      "execution_count": null,
      "outputs": []
    },
    {
      "cell_type": "code",
      "source": [],
      "metadata": {
        "id": "4xkKw26xbb_F"
      },
      "execution_count": null,
      "outputs": []
    },
    {
      "cell_type": "code",
      "source": [],
      "metadata": {
        "id": "embNRKrTbcCZ"
      },
      "execution_count": null,
      "outputs": []
    },
    {
      "cell_type": "code",
      "source": [],
      "metadata": {
        "id": "P5f26wN-bcEr"
      },
      "execution_count": null,
      "outputs": []
    },
    {
      "cell_type": "code",
      "source": [],
      "metadata": {
        "id": "5ovL5uvJbcHu"
      },
      "execution_count": null,
      "outputs": []
    },
    {
      "cell_type": "code",
      "source": [],
      "metadata": {
        "id": "Ogwe8y9obcKK"
      },
      "execution_count": null,
      "outputs": []
    },
    {
      "cell_type": "code",
      "source": [],
      "metadata": {
        "id": "Z67wN39obcNA"
      },
      "execution_count": null,
      "outputs": []
    },
    {
      "cell_type": "code",
      "source": [],
      "metadata": {
        "id": "m2EncW8fbcPs"
      },
      "execution_count": null,
      "outputs": []
    },
    {
      "cell_type": "code",
      "source": [],
      "metadata": {
        "id": "U2W-ueqObcTC"
      },
      "execution_count": null,
      "outputs": []
    },
    {
      "cell_type": "code",
      "source": [],
      "metadata": {
        "id": "OeciMRUzbcV9"
      },
      "execution_count": null,
      "outputs": []
    },
    {
      "cell_type": "code",
      "source": [],
      "metadata": {
        "id": "fsAF27yqbcYd"
      },
      "execution_count": null,
      "outputs": []
    },
    {
      "cell_type": "code",
      "source": [],
      "metadata": {
        "id": "--bhBSvRbcbb"
      },
      "execution_count": null,
      "outputs": []
    },
    {
      "cell_type": "code",
      "source": [],
      "metadata": {
        "id": "pqDDYik3bce-"
      },
      "execution_count": null,
      "outputs": []
    },
    {
      "cell_type": "code",
      "source": [],
      "metadata": {
        "id": "S6TljHVibeho"
      },
      "execution_count": null,
      "outputs": []
    },
    {
      "cell_type": "code",
      "source": [],
      "metadata": {
        "id": "7qPEPrrEbekL"
      },
      "execution_count": null,
      "outputs": []
    },
    {
      "cell_type": "code",
      "source": [],
      "metadata": {
        "id": "ROnYFtKcbemp"
      },
      "execution_count": null,
      "outputs": []
    },
    {
      "cell_type": "code",
      "source": [],
      "metadata": {
        "id": "yJ3__tCrbep1"
      },
      "execution_count": null,
      "outputs": []
    },
    {
      "cell_type": "code",
      "source": [],
      "metadata": {
        "id": "ZqU940Zfber9"
      },
      "execution_count": null,
      "outputs": []
    },
    {
      "cell_type": "code",
      "source": [],
      "metadata": {
        "id": "X5GV-tIRbeuk"
      },
      "execution_count": null,
      "outputs": []
    },
    {
      "cell_type": "code",
      "source": [],
      "metadata": {
        "id": "ULrdZOFnbexR"
      },
      "execution_count": null,
      "outputs": []
    },
    {
      "cell_type": "code",
      "source": [],
      "metadata": {
        "id": "0BcmZlXdbe0q"
      },
      "execution_count": null,
      "outputs": []
    },
    {
      "cell_type": "code",
      "source": [],
      "metadata": {
        "id": "VUq5vs1Qbe2O"
      },
      "execution_count": null,
      "outputs": []
    },
    {
      "cell_type": "code",
      "source": [],
      "metadata": {
        "id": "vs9zClGfbe5A"
      },
      "execution_count": null,
      "outputs": []
    },
    {
      "cell_type": "code",
      "source": [],
      "metadata": {
        "id": "y16MqJ_Nbe7O"
      },
      "execution_count": null,
      "outputs": []
    },
    {
      "cell_type": "code",
      "source": [],
      "metadata": {
        "id": "rC3EJkxBbe9y"
      },
      "execution_count": null,
      "outputs": []
    },
    {
      "cell_type": "code",
      "source": [],
      "metadata": {
        "id": "O-65TgAabfAx"
      },
      "execution_count": null,
      "outputs": []
    },
    {
      "cell_type": "code",
      "source": [],
      "metadata": {
        "id": "F2ZTlsscbfDf"
      },
      "execution_count": null,
      "outputs": []
    },
    {
      "cell_type": "code",
      "source": [],
      "metadata": {
        "id": "W80n4R5nbfGT"
      },
      "execution_count": null,
      "outputs": []
    },
    {
      "cell_type": "code",
      "source": [],
      "metadata": {
        "id": "4WFwrW0PbfIm"
      },
      "execution_count": null,
      "outputs": []
    },
    {
      "cell_type": "code",
      "source": [],
      "metadata": {
        "id": "j-Vl8K4TbfLR"
      },
      "execution_count": null,
      "outputs": []
    },
    {
      "cell_type": "code",
      "source": [],
      "metadata": {
        "id": "syUn9YPFbfN-"
      },
      "execution_count": null,
      "outputs": []
    },
    {
      "cell_type": "code",
      "source": [],
      "metadata": {
        "id": "Zj_ifCBobfQp"
      },
      "execution_count": null,
      "outputs": []
    },
    {
      "cell_type": "code",
      "source": [],
      "metadata": {
        "id": "OdC1QtTLbfT8"
      },
      "execution_count": null,
      "outputs": []
    },
    {
      "cell_type": "code",
      "source": [],
      "metadata": {
        "id": "BWVuW2MwbfX8"
      },
      "execution_count": null,
      "outputs": []
    },
    {
      "cell_type": "code",
      "source": [],
      "metadata": {
        "id": "cV43Oaz1bfaq"
      },
      "execution_count": null,
      "outputs": []
    },
    {
      "cell_type": "code",
      "source": [],
      "metadata": {
        "id": "uZr8PrNfbfdY"
      },
      "execution_count": null,
      "outputs": []
    },
    {
      "cell_type": "code",
      "source": [],
      "metadata": {
        "id": "V169wTy6bfgG"
      },
      "execution_count": null,
      "outputs": []
    },
    {
      "cell_type": "code",
      "source": [],
      "metadata": {
        "id": "1xwnzfpfbfi8"
      },
      "execution_count": null,
      "outputs": []
    },
    {
      "cell_type": "code",
      "source": [],
      "metadata": {
        "id": "LAEbqVwkbflo"
      },
      "execution_count": null,
      "outputs": []
    },
    {
      "cell_type": "code",
      "source": [],
      "metadata": {
        "id": "Ff-_yXqebfoF"
      },
      "execution_count": null,
      "outputs": []
    },
    {
      "cell_type": "code",
      "source": [],
      "metadata": {
        "id": "1mi1sWfpbfrA"
      },
      "execution_count": null,
      "outputs": []
    },
    {
      "cell_type": "code",
      "source": [],
      "metadata": {
        "id": "9hym7rIBbftw"
      },
      "execution_count": null,
      "outputs": []
    },
    {
      "cell_type": "code",
      "source": [],
      "metadata": {
        "id": "-ZoWlTGvbfw3"
      },
      "execution_count": null,
      "outputs": []
    },
    {
      "cell_type": "code",
      "source": [],
      "metadata": {
        "id": "T3_v5CJhbfzq"
      },
      "execution_count": null,
      "outputs": []
    },
    {
      "cell_type": "code",
      "source": [],
      "metadata": {
        "id": "5QOLpO1Gbf2N"
      },
      "execution_count": null,
      "outputs": []
    },
    {
      "cell_type": "code",
      "source": [],
      "metadata": {
        "id": "nbVTUa45bf5B"
      },
      "execution_count": null,
      "outputs": []
    },
    {
      "cell_type": "code",
      "source": [],
      "metadata": {
        "id": "as7fSkHMbf7z"
      },
      "execution_count": null,
      "outputs": []
    },
    {
      "cell_type": "code",
      "source": [],
      "metadata": {
        "id": "Hsi31kjNbf-T"
      },
      "execution_count": null,
      "outputs": []
    },
    {
      "cell_type": "code",
      "source": [],
      "metadata": {
        "id": "qkODXYm_bgA2"
      },
      "execution_count": null,
      "outputs": []
    },
    {
      "cell_type": "code",
      "source": [],
      "metadata": {
        "id": "sS4rWg_xbgDx"
      },
      "execution_count": null,
      "outputs": []
    },
    {
      "cell_type": "code",
      "source": [],
      "metadata": {
        "id": "lZTt1b9fbgGF"
      },
      "execution_count": null,
      "outputs": []
    },
    {
      "cell_type": "code",
      "source": [],
      "metadata": {
        "id": "iTy80YZIbgJe"
      },
      "execution_count": null,
      "outputs": []
    },
    {
      "cell_type": "code",
      "source": [],
      "metadata": {
        "id": "A3CcqH3lbh98"
      },
      "execution_count": null,
      "outputs": []
    },
    {
      "cell_type": "code",
      "source": [],
      "metadata": {
        "id": "hi0Kadj0biC9"
      },
      "execution_count": null,
      "outputs": []
    },
    {
      "cell_type": "code",
      "source": [],
      "metadata": {
        "id": "7ofzbdeObiEh"
      },
      "execution_count": null,
      "outputs": []
    },
    {
      "cell_type": "code",
      "source": [],
      "metadata": {
        "id": "aEl9t4mpbiGM"
      },
      "execution_count": null,
      "outputs": []
    },
    {
      "cell_type": "code",
      "source": [],
      "metadata": {
        "id": "jNh1nuKEbiIR"
      },
      "execution_count": null,
      "outputs": []
    },
    {
      "cell_type": "code",
      "source": [],
      "metadata": {
        "id": "zwXZEzMZbiLD"
      },
      "execution_count": null,
      "outputs": []
    },
    {
      "cell_type": "code",
      "source": [],
      "metadata": {
        "id": "UdQIpXulbiOp"
      },
      "execution_count": null,
      "outputs": []
    },
    {
      "cell_type": "code",
      "source": [],
      "metadata": {
        "id": "aZXVHKSObiXt"
      },
      "execution_count": null,
      "outputs": []
    },
    {
      "cell_type": "code",
      "source": [],
      "metadata": {
        "id": "f4PaS0M1biaX"
      },
      "execution_count": null,
      "outputs": []
    },
    {
      "cell_type": "code",
      "source": [],
      "metadata": {
        "id": "elUg0ZzHbieP"
      },
      "execution_count": null,
      "outputs": []
    },
    {
      "cell_type": "code",
      "source": [],
      "metadata": {
        "id": "Bl54GlsMbigv"
      },
      "execution_count": null,
      "outputs": []
    },
    {
      "cell_type": "code",
      "source": [],
      "metadata": {
        "id": "jUMc5J67bijK"
      },
      "execution_count": null,
      "outputs": []
    },
    {
      "cell_type": "code",
      "source": [],
      "metadata": {
        "id": "-KjiaTwbbimU"
      },
      "execution_count": null,
      "outputs": []
    },
    {
      "cell_type": "code",
      "source": [],
      "metadata": {
        "id": "-8icJXJVbipI"
      },
      "execution_count": null,
      "outputs": []
    },
    {
      "cell_type": "code",
      "source": [],
      "metadata": {
        "id": "jQ7m3orhbir8"
      },
      "execution_count": null,
      "outputs": []
    },
    {
      "cell_type": "code",
      "source": [],
      "metadata": {
        "id": "WZahF4KIbivd"
      },
      "execution_count": null,
      "outputs": []
    },
    {
      "cell_type": "code",
      "source": [],
      "metadata": {
        "id": "UrTjpsvsgLNX"
      },
      "execution_count": null,
      "outputs": []
    },
    {
      "cell_type": "code",
      "source": [],
      "metadata": {
        "id": "SDJCyVRggLZ9"
      },
      "execution_count": null,
      "outputs": []
    },
    {
      "cell_type": "code",
      "source": [],
      "metadata": {
        "id": "VfjtSEx6gLc6"
      },
      "execution_count": null,
      "outputs": []
    },
    {
      "cell_type": "code",
      "source": [],
      "metadata": {
        "id": "ItQGjhKDgLfo"
      },
      "execution_count": null,
      "outputs": []
    },
    {
      "cell_type": "code",
      "source": [],
      "metadata": {
        "id": "iPR_M-F8gLjM"
      },
      "execution_count": null,
      "outputs": []
    },
    {
      "cell_type": "code",
      "source": [],
      "metadata": {
        "id": "sUMxTIS2gLsg"
      },
      "execution_count": null,
      "outputs": []
    },
    {
      "cell_type": "code",
      "source": [],
      "metadata": {
        "id": "Pri-gg4rgLv0"
      },
      "execution_count": null,
      "outputs": []
    },
    {
      "cell_type": "code",
      "source": [],
      "metadata": {
        "id": "iFSeE6LXgLyk"
      },
      "execution_count": null,
      "outputs": []
    },
    {
      "cell_type": "code",
      "source": [],
      "metadata": {
        "id": "elnt-Od2gL9o"
      },
      "execution_count": null,
      "outputs": []
    }
  ]
}